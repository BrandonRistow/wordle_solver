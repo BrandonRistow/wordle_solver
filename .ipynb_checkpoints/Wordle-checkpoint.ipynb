{
 "cells": [
  {
   "cell_type": "code",
   "execution_count": 79,
   "id": "6f0d1018",
   "metadata": {},
   "outputs": [],
   "source": [
    "import os\n",
    "import requests\n",
    "import shlex\n",
    "from requests.auth import HTTPBasicAuth\n",
    "import pandas as pd\n"
   ]
  },
  {
   "cell_type": "code",
   "execution_count": 196,
   "id": "e66039fa",
   "metadata": {},
   "outputs": [],
   "source": [
    "def wordle_length(wordle_id):\n",
    "    url = \"https://ramp-wordle-server.herokuapp.com/wordles/\"+str(wordle_id)\n",
    "    headers = {'accept': 'application/json',\n",
    "               'X-API-Key': \"08fc77b5-748b-44e4-8d36-ed95d0257b2f\",\n",
    "               \"Content-Type\": \"application/json\"\n",
    "               }\n",
    "    res = requests.get(url,headers=headers)\n",
    "    return res.json()['length']"
   ]
  },
  {
   "cell_type": "code",
   "execution_count": 197,
   "id": "2f8d3c9d",
   "metadata": {},
   "outputs": [
    {
     "data": {
      "text/plain": [
       "6"
      ]
     },
     "execution_count": 197,
     "metadata": {},
     "output_type": "execute_result"
    }
   ],
   "source": [
    "wordle_length(4798)"
   ]
  },
  {
   "cell_type": "code",
   "execution_count": 95,
   "id": "b9aa2667",
   "metadata": {},
   "outputs": [],
   "source": [
    "def start_wordle(length, timeout=1000):\n",
    "    url = \"https://ramp-wordle-server.herokuapp.com/wordles\"\n",
    "    headers = {'accept': 'application/json',\n",
    "               'X-API-Key': \"08fc77b5-748b-44e4-8d36-ed95d0257b2f\",\n",
    "               \"Content-Type\": \"application/json\"\n",
    "               }\n",
    "    j = {'length': str(length), 'timeout': '1000'}\n",
    "    res = requests.post(url,\n",
    "                        headers=headers,\n",
    "                        json=j)\n",
    "\n",
    "    return res.json()['id'], res.json()['length']\n",
    "\n",
    "def guess_wordle(wordle_id, guess):\n",
    "    print('guess = ', guess)\n",
    "    url = \"https://ramp-wordle-server.herokuapp.com/attempts\"\n",
    "    headers = {'accept': 'application/json',\n",
    "               'X-API-Key': \"08fc77b5-748b-44e4-8d36-ed95d0257b2f\",\n",
    "               \"Content-Type\": \"application/json\"\n",
    "               }\n",
    "    j = {'guess': guess, 'wordle_id': wordle_id}\n",
    "    g = requests.post(url,\n",
    "                      headers=headers,\n",
    "                      json=j)\n",
    "    try:\n",
    "        return g.json()['result']\n",
    "    except KeyError:\n",
    "        return g.json()['message']\n",
    "\n",
    "def filter_results(words, guess, result, logging=True):\n",
    "    \"\"\"\n",
    "    Processes a wordle guess over each letter according to whether it was a green, yellow or black result\n",
    "\n",
    "    words: database of words\n",
    "    guess: The guessed word\n",
    "    wordle: The wordle\n",
    "\n",
    "    returns filtered words database\n",
    "    \"\"\"\n",
    "    for i in range(len(result)):  # Go through each letter and act accordingly\n",
    "        if result[i] == 'h':  # ie Green\n",
    "            words = words[words.Words.str[i] == guess[i]]  # filter to just words with that letter in that spot\n",
    "            if logging:\n",
    "                print(\"Letter '\" + guess[i] + \"'\", ' is green in position', i + 1, \": \", len(words),\n",
    "                      \"Possible words remaining\")\n",
    "        elif result[i] == 'f':  # ie yellow\n",
    "            words = words[words.Words.str.contains(guess[i]) == True]  # Filter to only words with this letter\n",
    "            words = words[words.Words.str[i] != guess[i]]  # filter out all words with that letter in that spot\n",
    "            if logging:\n",
    "                print(\"Letter '\" + guess[i] + \"'\", ' is yellow in position', i + 1, \": \", len(words),\n",
    "                      \"Possible words remaining\")\n",
    "        else:  # ie black\n",
    "            for j in range(len(result)):  # Go through each letter\n",
    "                if guess[j] == guess[i] and result[j] != 'm':\n",
    "                    pass\n",
    "                else:\n",
    "                    words = words[\n",
    "                        words.Words.str[j] != guess[i]]  # filter out all words with that letter in that spot\n",
    "            #             words = words[words.Words.str.contains(guess[i]) == False] # filter out all words with this letter\n",
    "            if logging:\n",
    "                print(\"Letter '\" + guess[i] + \"'\", ' is black in position', i + 1, \": \", len(words),\n",
    "                      \"Possible words remaining\")\n",
    "\n",
    "    return words\n",
    "\n",
    "def green_word_scoring(words, guess_round):\n",
    "    \"\"\"\n",
    "    Takes the remaining words and establishes how often each letter appears in each position, that frequency is\n",
    "    the score given to each letter of each word, with the word providing the highest score being the output\n",
    "\n",
    "    words: database of words\n",
    "\n",
    "    returns string of the highest scoring word in terms of greens\n",
    "    \"\"\"\n",
    "    wm = words[['Words']].copy()\n",
    "\n",
    "    heat = pd.DataFrame()\n",
    "    for i in range(len(wm['Words'].iloc[0])):\n",
    "        wm['Letter' + str(i + 1)] = wm.Words.str[i]\n",
    "        gb = wm.groupby('Letter' + str(i + 1)).count()[['Words']].sort_values('Words', ascending=False)\n",
    "        gb.rename(columns={'Words': 'L' + str(i + 1)}, inplace=True)\n",
    "        heat = gb.join(heat, how='outer')\n",
    "\n",
    "    wm['Total'] = 0\n",
    "    for l in range(len(wm['Words'].iloc[0])):\n",
    "        wm = wm.join(heat[['L' + str(l + 1)]], on='Letter' + str(l + 1))\n",
    "        wm['Total'] = wm['Total'] + wm['L' + str(l + 1)]\n",
    "\n",
    "    if guess_round <= 1:\n",
    "        try:\n",
    "            wm = remove_repeat_letters(wm)\n",
    "        except IndexError:\n",
    "            pass\n",
    "\n",
    "    wm = wm[wm.Total == wm.Total.max()]\n",
    "\n",
    "    return wm['Words'].iloc[0]\n",
    "\n",
    "def remove_repeat_letters(df):\n",
    "    \"\"\"\n",
    "    Finds all words with repeated letters and filters them out.\n",
    "    \"\"\"\n",
    "    x = df.copy()\n",
    "    for j in range(len(x.Words.iloc[0])):\n",
    "        for k in range(len(x.Words.iloc[0])):\n",
    "            if j != k:\n",
    "                x = x[x['Letter' + str(k + 1)] != x['Letter' + str(j + 1)]]\n",
    "\n",
    "    return x\n",
    "\n",
    "def wordle_iteration(words, i, wordle_id, logging=True):\n",
    "    guess = green_word_scoring(words, i)\n",
    "    result = guess_wordle(wordle_id, guess)\n",
    "    print(result)\n",
    "    if result == \"Wordle already solved\":\n",
    "        return words, result\n",
    "    words = filter_results(words, guess, result, logging=logging)\n",
    "    return words, result\n",
    "\n",
    "def do_wordle(length, logging=True):\n",
    "    wordle_id, length = start_wordle(length)\n",
    "    print('wordle_id:', wordle_id)\n",
    "    words = pd.read_csv(\"https://ramp-python-challenge.s3.eu-west-1.amazonaws.com/wordle_\" + str(length) + \".csv\",\n",
    "                        names=['Words'])\n",
    "    for i in range(6):\n",
    "        words, result = wordle_iteration(words, i, wordle_id, logging=logging)\n",
    "        if result == \"Wordle already solved\":\n",
    "            return words\n",
    "    return 'Wordle not solved in time'"
   ]
  },
  {
   "cell_type": "code",
   "execution_count": 180,
   "id": "60e2b499",
   "metadata": {},
   "outputs": [
    {
     "name": "stdout",
     "output_type": "stream",
     "text": [
      "wordle_id: 4852\n",
      "guess =  parties\n",
      "mhmmfmm\n",
      "Letter 'p'  is black in position 1 :  9099 Possible words remaining\n",
      "Letter 'a'  is green in position 2 :  1488 Possible words remaining\n",
      "Letter 'r'  is black in position 3 :  837 Possible words remaining\n",
      "Letter 't'  is black in position 4 :  496 Possible words remaining\n",
      "Letter 'i'  is yellow in position 5 :  60 Possible words remaining\n",
      "Letter 'e'  is black in position 6 :  45 Possible words remaining\n",
      "Letter 's'  is black in position 7 :  22 Possible words remaining\n",
      "guess =  maudlin\n",
      "mhmmhhf\n",
      "Letter 'm'  is black in position 1 :  11 Possible words remaining\n",
      "Letter 'a'  is green in position 2 :  11 Possible words remaining\n",
      "Letter 'u'  is black in position 3 :  8 Possible words remaining\n",
      "Letter 'd'  is black in position 4 :  6 Possible words remaining\n",
      "Letter 'l'  is green in position 5 :  4 Possible words remaining\n",
      "Letter 'i'  is green in position 6 :  2 Possible words remaining\n",
      "Letter 'n'  is yellow in position 7 :  1 Possible words remaining\n",
      "guess =  ganglia\n",
      "hhhhhhh\n",
      "Letter 'g'  is green in position 1 :  1 Possible words remaining\n",
      "Letter 'a'  is green in position 2 :  1 Possible words remaining\n",
      "Letter 'n'  is green in position 3 :  1 Possible words remaining\n",
      "Letter 'g'  is green in position 4 :  1 Possible words remaining\n",
      "Letter 'l'  is green in position 5 :  1 Possible words remaining\n",
      "Letter 'i'  is green in position 6 :  1 Possible words remaining\n",
      "Letter 'a'  is green in position 7 :  1 Possible words remaining\n",
      "guess =  ganglia\n",
      "Wordle already solved\n"
     ]
    },
    {
     "data": {
      "text/html": [
       "<div>\n",
       "<style scoped>\n",
       "    .dataframe tbody tr th:only-of-type {\n",
       "        vertical-align: middle;\n",
       "    }\n",
       "\n",
       "    .dataframe tbody tr th {\n",
       "        vertical-align: top;\n",
       "    }\n",
       "\n",
       "    .dataframe thead th {\n",
       "        text-align: right;\n",
       "    }\n",
       "</style>\n",
       "<table border=\"1\" class=\"dataframe\">\n",
       "  <thead>\n",
       "    <tr style=\"text-align: right;\">\n",
       "      <th></th>\n",
       "      <th>Words</th>\n",
       "    </tr>\n",
       "  </thead>\n",
       "  <tbody>\n",
       "    <tr>\n",
       "      <th>3972</th>\n",
       "      <td>ganglia</td>\n",
       "    </tr>\n",
       "  </tbody>\n",
       "</table>\n",
       "</div>"
      ],
      "text/plain": [
       "        Words\n",
       "3972  ganglia"
      ]
     },
     "execution_count": 180,
     "metadata": {},
     "output_type": "execute_result"
    }
   ],
   "source": [
    "do_wordle(7)"
   ]
  },
  {
   "cell_type": "code",
   "execution_count": 1,
   "id": "0fc7d1b5",
   "metadata": {},
   "outputs": [],
   "source": [
    "%load_ext autoreload\n",
    "%autoreload 2\n",
    "from wordle_contestant.game import *"
   ]
  },
  {
   "cell_type": "code",
   "execution_count": null,
   "id": "8b7df455",
   "metadata": {},
   "outputs": [],
   "source": []
  },
  {
   "cell_type": "code",
   "execution_count": 6,
   "id": "59631b69",
   "metadata": {},
   "outputs": [
    {
     "name": "stdout",
     "output_type": "stream",
     "text": [
      "{'created_at': '2022-03-30T14:49:11.928355', 'length': 7, 'id': 4910, 'timeout': 1000}\n",
      "wordle_id: 4910\n",
      "Wordle length:  7\n",
      "guess =  parties\n",
      "fmfmmfh\n",
      "Letter 'p'  is yellow in position 1 :  1203 Possible words remaining\n",
      "Letter 'a'  is black in position 2 :  688 Possible words remaining\n",
      "Letter 'r'  is yellow in position 3 :  266 Possible words remaining\n",
      "Letter 't'  is black in position 4 :  181 Possible words remaining\n",
      "Letter 'i'  is black in position 5 :  92 Possible words remaining\n",
      "Letter 'e'  is yellow in position 6 :  49 Possible words remaining\n",
      "Letter 's'  is green in position 7 :  30 Possible words remaining\n",
      "guess =  bumpers\n",
      "mmmfhfh\n",
      "Letter 'b'  is black in position 1 :  28 Possible words remaining\n",
      "Letter 'u'  is black in position 2 :  22 Possible words remaining\n",
      "Letter 'm'  is black in position 3 :  20 Possible words remaining\n",
      "Letter 'p'  is yellow in position 4 :  10 Possible words remaining\n",
      "Letter 'e'  is green in position 5 :  9 Possible words remaining\n",
      "Letter 'r'  is yellow in position 6 :  6 Possible words remaining\n",
      "Letter 's'  is green in position 7 :  6 Possible words remaining\n",
      "guess =  depress\n",
      "hhhhhhh\n",
      "Letter 'd'  is green in position 1 :  1 Possible words remaining\n",
      "Letter 'e'  is green in position 2 :  1 Possible words remaining\n",
      "Letter 'p'  is green in position 3 :  1 Possible words remaining\n",
      "Letter 'r'  is green in position 4 :  1 Possible words remaining\n",
      "Letter 'e'  is green in position 5 :  1 Possible words remaining\n",
      "Letter 's'  is green in position 6 :  1 Possible words remaining\n",
      "Letter 's'  is green in position 7 :  1 Possible words remaining\n",
      "guess =  depress\n",
      "Wordle already solved\n"
     ]
    }
   ],
   "source": [
    "run_game(start_wordle(7))"
   ]
  },
  {
   "cell_type": "code",
   "execution_count": 4,
   "id": "a1572cf3",
   "metadata": {},
   "outputs": [
    {
     "name": "stdout",
     "output_type": "stream",
     "text": [
      "wordle_id: 4578\n",
      "Wordle length:  8\n",
      "guess =  pantries\n",
      "Wordle expired\n"
     ]
    },
    {
     "ename": "IndexError",
     "evalue": "string index out of range",
     "output_type": "error",
     "traceback": [
      "\u001b[0;31m---------------------------------------------------------------------------\u001b[0m",
      "\u001b[0;31mIndexError\u001b[0m                                Traceback (most recent call last)",
      "\u001b[0;32m/var/folders/16/ng16gvhx48b86qf130vg46qw0000gn/T/ipykernel_11882/32488887.py\u001b[0m in \u001b[0;36m<module>\u001b[0;34m\u001b[0m\n\u001b[0;32m----> 1\u001b[0;31m \u001b[0mdo_wordle\u001b[0m\u001b[0;34m(\u001b[0m\u001b[0;36m4578\u001b[0m\u001b[0;34m)\u001b[0m\u001b[0;34m\u001b[0m\u001b[0;34m\u001b[0m\u001b[0m\n\u001b[0m",
      "\u001b[0;32m~/Personal/wordle-contestant/wordle_contestant/game.py\u001b[0m in \u001b[0;36mdo_wordle\u001b[0;34m(wordle_id, logging)\u001b[0m\n\u001b[1;32m    146\u001b[0m                         names=['Words'])\n\u001b[1;32m    147\u001b[0m     \u001b[0;32mfor\u001b[0m \u001b[0mi\u001b[0m \u001b[0;32min\u001b[0m \u001b[0mrange\u001b[0m\u001b[0;34m(\u001b[0m\u001b[0;36m10\u001b[0m\u001b[0;34m)\u001b[0m\u001b[0;34m:\u001b[0m\u001b[0;34m\u001b[0m\u001b[0;34m\u001b[0m\u001b[0m\n\u001b[0;32m--> 148\u001b[0;31m         \u001b[0mwords\u001b[0m\u001b[0;34m,\u001b[0m \u001b[0mresult\u001b[0m \u001b[0;34m=\u001b[0m \u001b[0mwordle_iteration\u001b[0m\u001b[0;34m(\u001b[0m\u001b[0mwords\u001b[0m\u001b[0;34m,\u001b[0m \u001b[0mi\u001b[0m\u001b[0;34m,\u001b[0m \u001b[0mwordle_id\u001b[0m\u001b[0;34m,\u001b[0m \u001b[0mlogging\u001b[0m\u001b[0;34m=\u001b[0m\u001b[0mlogging\u001b[0m\u001b[0;34m)\u001b[0m\u001b[0;34m\u001b[0m\u001b[0;34m\u001b[0m\u001b[0m\n\u001b[0m\u001b[1;32m    149\u001b[0m         \u001b[0;32mif\u001b[0m \u001b[0mresult\u001b[0m \u001b[0;34m==\u001b[0m \u001b[0;34m\"Wordle already solved\"\u001b[0m\u001b[0;34m:\u001b[0m\u001b[0;34m\u001b[0m\u001b[0;34m\u001b[0m\u001b[0m\n\u001b[1;32m    150\u001b[0m             \u001b[0;32mreturn\u001b[0m \u001b[0mwords\u001b[0m\u001b[0;34m\u001b[0m\u001b[0;34m\u001b[0m\u001b[0m\n",
      "\u001b[0;32m~/Personal/wordle-contestant/wordle_contestant/game.py\u001b[0m in \u001b[0;36mwordle_iteration\u001b[0;34m(words, i, wordle_id, logging)\u001b[0m\n\u001b[1;32m    133\u001b[0m     \u001b[0;32mif\u001b[0m \u001b[0mresult\u001b[0m \u001b[0;34m==\u001b[0m \u001b[0;34m\"Wordle already solved\"\u001b[0m\u001b[0;34m:\u001b[0m\u001b[0;34m\u001b[0m\u001b[0;34m\u001b[0m\u001b[0m\n\u001b[1;32m    134\u001b[0m         \u001b[0;32mreturn\u001b[0m \u001b[0mwords\u001b[0m\u001b[0;34m,\u001b[0m \u001b[0mresult\u001b[0m\u001b[0;34m\u001b[0m\u001b[0;34m\u001b[0m\u001b[0m\n\u001b[0;32m--> 135\u001b[0;31m     \u001b[0mwords\u001b[0m \u001b[0;34m=\u001b[0m \u001b[0mfilter_results\u001b[0m\u001b[0;34m(\u001b[0m\u001b[0mwords\u001b[0m\u001b[0;34m,\u001b[0m \u001b[0mguess\u001b[0m\u001b[0;34m,\u001b[0m \u001b[0mresult\u001b[0m\u001b[0;34m,\u001b[0m \u001b[0mlogging\u001b[0m\u001b[0;34m=\u001b[0m\u001b[0mlogging\u001b[0m\u001b[0;34m)\u001b[0m\u001b[0;34m\u001b[0m\u001b[0;34m\u001b[0m\u001b[0m\n\u001b[0m\u001b[1;32m    136\u001b[0m \u001b[0;34m\u001b[0m\u001b[0m\n\u001b[1;32m    137\u001b[0m     \u001b[0;32mreturn\u001b[0m \u001b[0mwords\u001b[0m\u001b[0;34m,\u001b[0m \u001b[0mresult\u001b[0m\u001b[0;34m\u001b[0m\u001b[0;34m\u001b[0m\u001b[0m\n",
      "\u001b[0;32m~/Personal/wordle-contestant/wordle_contestant/game.py\u001b[0m in \u001b[0;36mfilter_results\u001b[0;34m(words, guess, result, logging)\u001b[0m\n\u001b[1;32m     68\u001b[0m         \u001b[0;32melse\u001b[0m\u001b[0;34m:\u001b[0m  \u001b[0;31m# ie black\u001b[0m\u001b[0;34m\u001b[0m\u001b[0;34m\u001b[0m\u001b[0m\n\u001b[1;32m     69\u001b[0m             \u001b[0;32mfor\u001b[0m \u001b[0mj\u001b[0m \u001b[0;32min\u001b[0m \u001b[0mrange\u001b[0m\u001b[0;34m(\u001b[0m\u001b[0mlen\u001b[0m\u001b[0;34m(\u001b[0m\u001b[0mresult\u001b[0m\u001b[0;34m)\u001b[0m\u001b[0;34m)\u001b[0m\u001b[0;34m:\u001b[0m  \u001b[0;31m# Go through each letter\u001b[0m\u001b[0;34m\u001b[0m\u001b[0;34m\u001b[0m\u001b[0m\n\u001b[0;32m---> 70\u001b[0;31m                 \u001b[0;32mif\u001b[0m \u001b[0mguess\u001b[0m\u001b[0;34m[\u001b[0m\u001b[0mj\u001b[0m\u001b[0;34m]\u001b[0m \u001b[0;34m==\u001b[0m \u001b[0mguess\u001b[0m\u001b[0;34m[\u001b[0m\u001b[0mi\u001b[0m\u001b[0;34m]\u001b[0m \u001b[0;32mand\u001b[0m \u001b[0mresult\u001b[0m\u001b[0;34m[\u001b[0m\u001b[0mj\u001b[0m\u001b[0;34m]\u001b[0m \u001b[0;34m!=\u001b[0m \u001b[0;34m'm'\u001b[0m\u001b[0;34m:\u001b[0m\u001b[0;34m\u001b[0m\u001b[0;34m\u001b[0m\u001b[0m\n\u001b[0m\u001b[1;32m     71\u001b[0m                     \u001b[0;32mpass\u001b[0m\u001b[0;34m\u001b[0m\u001b[0;34m\u001b[0m\u001b[0m\n\u001b[1;32m     72\u001b[0m                 \u001b[0;32melse\u001b[0m\u001b[0;34m:\u001b[0m\u001b[0;34m\u001b[0m\u001b[0;34m\u001b[0m\u001b[0m\n",
      "\u001b[0;31mIndexError\u001b[0m: string index out of range"
     ]
    }
   ],
   "source": [
    "do_wordle(4578)"
   ]
  },
  {
   "cell_type": "code",
   "execution_count": 210,
   "id": "d728b9ee",
   "metadata": {},
   "outputs": [],
   "source": [
    "timeout=1000\n",
    "url = \"https://ramp-wordle-server.herokuapp.com/wordles\"\n",
    "headers = {'accept': 'application/json',\n",
    "           'X-API-Key': \"08fc77b5-748b-44e4-8d36-ed95d0257b2f\",\n",
    "           \"Content-Type\": \"application/json\"\n",
    "           }\n",
    "j = {'length': str(length), 'timeout': timeout}\n",
    "res = requests.post(url,\n",
    "                    headers=headers,\n",
    "                    json=j)"
   ]
  },
  {
   "cell_type": "code",
   "execution_count": 213,
   "id": "6f37703a",
   "metadata": {},
   "outputs": [
    {
     "data": {
      "text/plain": [
       "4909"
      ]
     },
     "execution_count": 213,
     "metadata": {},
     "output_type": "execute_result"
    }
   ],
   "source": [
    "res.json()['id']"
   ]
  },
  {
   "cell_type": "code",
   "execution_count": null,
   "id": "c5fa4857",
   "metadata": {},
   "outputs": [],
   "source": []
  }
 ],
 "metadata": {
  "kernelspec": {
   "display_name": "Python 3 (ipykernel)",
   "language": "python",
   "name": "python3"
  },
  "language_info": {
   "codemirror_mode": {
    "name": "ipython",
    "version": 3
   },
   "file_extension": ".py",
   "mimetype": "text/x-python",
   "name": "python",
   "nbconvert_exporter": "python",
   "pygments_lexer": "ipython3",
   "version": "3.9.7"
  }
 },
 "nbformat": 4,
 "nbformat_minor": 5
}
